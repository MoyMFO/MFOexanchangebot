{
 "cells": [
  {
   "cell_type": "code",
   "execution_count": 1,
   "metadata": {},
   "outputs": [],
   "source": [
    "import warnings; warnings.filterwarnings('ignore')\n",
    "from fitter import Fitter\n",
    "from sklearn.preprocessing import StandardScaler\n",
    "import numpy as np"
   ]
  },
  {
   "cell_type": "code",
   "execution_count": 2,
   "metadata": {},
   "outputs": [],
   "source": [
    "mid_price = np.array([467496.93418961, 467496.93418961, 467496.93418961, 467496.93418961,\n",
    "       467496.93418961, 467602.97890387, 467602.97890387, 467602.97890387,\n",
    "       467533.38013106, 467607.24227629, 467607.24227629, 467607.24227629,\n",
    "       467607.24227629, 467607.24227629, 467513.65320861, 467504.51304454,\n",
    "       467504.51304454, 467607.24369077, 467607.24369077, 467607.24369077,\n",
    "       467607.24369077, 467517.65225484, 467517.65225484, 467517.65225484,\n",
    "       467517.65225484, 467607.24510524, 467607.24510524, 467607.24510524,\n",
    "       467607.24510524, 467607.24510524, 467505.13222997, 467505.13222997,\n",
    "       467505.13222997, 467505.13222997, 467607.24651972, 467607.24651972,\n",
    "       467607.24651972, 467607.24651972, 467504.93252562, 467504.93252562,\n",
    "       467504.93252562, 467607.24793419, 467607.24793419, 467607.24793419,\n",
    "       467524.31712418, 467524.31712418, 467524.31712418, 467607.24934867,\n",
    "       467607.24934867, 467607.24934867, 467520.76470152, 467520.76470152,\n",
    "       467520.76470152, 467607.25076314, 467607.25076314, 467607.25076314,\n",
    "       467527.31197695, 467527.31197695, 467607.25217761, 467607.25217761,\n",
    "       467533.00732601, 467533.00732601, 467533.00732601, 467532.95099698,\n",
    "       467607.25359208, 467607.25359208, 467607.25359208, 467523.2849196 ,\n",
    "       467523.2849196 , 467607.25500656, 467607.25500656, 467607.25500656,\n",
    "       467607.25500656, 467525.79024747, 467525.79024747, 467607.25642103,\n",
    "       467607.25642103, 467607.25642103, 467521.73673002, 467521.73673002,\n",
    "       467607.2578355 , 467607.2578355 , 467607.2578355 , 467607.2578355 ,\n",
    "       467607.2578355 , 467502.58745413, 467502.58745413, 467502.58745413,\n",
    "       467502.58745413, 467502.58745413, 467607.25924997, 467607.25924997,\n",
    "       467607.25924997, 467607.25924997, 467607.25924997, 467607.25924997,\n",
    "       467607.25924997, 467607.25924997, 467607.25924997, 467531.88075352,\n",
    "       467531.88075352, 467531.88075352, 467531.88075352, 467606.91357892,\n",
    "       467607.26066444, 467607.26066444, 467607.26066444, 467607.26066444,\n",
    "       467607.26066444, 467528.73035326, 467528.73035326, 467606.91357892,\n",
    "       467607.26207891, 467607.26207891, 467607.26207891, 467607.26207891,\n",
    "       467607.26207891, 467607.26207891, 467513.26808177, 467513.26808177,\n",
    "       467595.94733327, 467607.26349338, 467607.26349338, 467607.26349338,\n",
    "       467607.26349338, 467607.26349338, 467525.37230479, 467525.37230479,\n",
    "       467595.94733327, 467607.26490785, 467607.26490785, 467607.26490785,\n",
    "       467534.40827661, 467534.40827661, 467607.26632232, 467607.26632232,\n",
    "       467523.54231645, 467523.54231645, 467595.94733327, 467607.26773679,\n",
    "       467607.26773679, 467607.26773679, 467607.26773679, 467520.55988259,\n",
    "       467520.55988259, 467595.94733327, 467595.94733327, 467607.26915126,\n",
    "       467607.26915126, 467607.26915126, 467607.26915126, 467508.85401206,\n",
    "       467508.85401206, 467508.85401206, 467508.85401206, 467508.85401206,\n",
    "       467607.27056573, 467607.27056573, 467607.27056573, 467607.27056573,\n",
    "       467607.27056573, 467607.27056573, 467607.27056573, 467607.27056573,\n",
    "       467607.27056573, 467512.81883231, 467607.27056573, 467471.32151577,\n",
    "       467471.32151577, 467495.41660482, 467386.58037669, 467386.58037669,\n",
    "       467386.58037669, 467386.58037669, 467424.95569671, 467231.80191763,\n",
    "       467224.6270689 , 467424.0776782 , 467424.0776782 , 467420.56413137,\n",
    "       467420.56413137, 467420.56413137, 467420.56413137, 467420.56413137,\n",
    "       467420.56413137, 467420.56413137, 467420.56413137, 467420.56413137,\n",
    "       467420.56413137, 467420.56413137, 467420.56413137, 467420.56413137,\n",
    "       467472.91876501, 467472.91876501, 467472.91876501, 467472.91876501,\n",
    "       467472.91876501, 467472.91876501, 467472.91876501, 467472.91876501])"
   ]
  },
  {
   "cell_type": "code",
   "execution_count": 3,
   "metadata": {},
   "outputs": [],
   "source": [
    "distribution = Fitter(mid_price)"
   ]
  },
  {
   "cell_type": "code",
   "execution_count": 4,
   "metadata": {},
   "outputs": [
    {
     "name": "stderr",
     "output_type": "stream",
     "text": [
      "WARNING:root:SKIPPED geninvgauss distribution (taking more than 30 seconds)\n",
      "WARNING:root:SKIPPED kstwo distribution (taking more than 30 seconds)\n",
      "WARNING:root:SKIPPED rv_continuous distribution (taking more than 30 seconds)\n",
      "WARNING:root:SKIPPED rv_histogram distribution (taking more than 30 seconds)\n",
      "WARNING:root:SKIPPED genexpon distribution (taking more than 30 seconds)\n",
      "WARNING:root:SKIPPED kappa4 distribution (taking more than 30 seconds)\n",
      "WARNING:root:SKIPPED levy_stable distribution (taking more than 30 seconds)\n",
      "WARNING:root:SKIPPED ncx2 distribution (taking more than 30 seconds)\n",
      "WARNING:root:SKIPPED recipinvgauss distribution (taking more than 30 seconds)\n",
      "WARNING:root:SKIPPED studentized_range distribution (taking more than 30 seconds)\n",
      "WARNING:root:SKIPPED vonmises distribution (taking more than 30 seconds)\n",
      "WARNING:root:SKIPPED vonmises_line distribution (taking more than 30 seconds)\n"
     ]
    }
   ],
   "source": [
    "distribution.fit()"
   ]
  },
  {
   "cell_type": "code",
   "execution_count": 5,
   "metadata": {},
   "outputs": [
    {
     "data": {
      "text/html": [
       "<div>\n",
       "<style scoped>\n",
       "    .dataframe tbody tr th:only-of-type {\n",
       "        vertical-align: middle;\n",
       "    }\n",
       "\n",
       "    .dataframe tbody tr th {\n",
       "        vertical-align: top;\n",
       "    }\n",
       "\n",
       "    .dataframe thead th {\n",
       "        text-align: right;\n",
       "    }\n",
       "</style>\n",
       "<table border=\"1\" class=\"dataframe\">\n",
       "  <thead>\n",
       "    <tr style=\"text-align: right;\">\n",
       "      <th></th>\n",
       "      <th>sumsquare_error</th>\n",
       "      <th>aic</th>\n",
       "      <th>bic</th>\n",
       "      <th>kl_div</th>\n",
       "    </tr>\n",
       "  </thead>\n",
       "  <tbody>\n",
       "    <tr>\n",
       "      <th>johnsonsu</th>\n",
       "      <td>0.005957</td>\n",
       "      <td>1636.229911</td>\n",
       "      <td>-2063.118120</td>\n",
       "      <td>inf</td>\n",
       "    </tr>\n",
       "    <tr>\n",
       "      <th>beta</th>\n",
       "      <td>0.007582</td>\n",
       "      <td>1576.872924</td>\n",
       "      <td>-2014.861091</td>\n",
       "      <td>inf</td>\n",
       "    </tr>\n",
       "    <tr>\n",
       "      <th>pearson3</th>\n",
       "      <td>0.008485</td>\n",
       "      <td>2200.877875</td>\n",
       "      <td>-1997.648565</td>\n",
       "      <td>inf</td>\n",
       "    </tr>\n",
       "    <tr>\n",
       "      <th>gennorm</th>\n",
       "      <td>0.008936</td>\n",
       "      <td>1731.200937</td>\n",
       "      <td>-1987.308335</td>\n",
       "      <td>inf</td>\n",
       "    </tr>\n",
       "    <tr>\n",
       "      <th>skewcauchy</th>\n",
       "      <td>0.009136</td>\n",
       "      <td>1618.856333</td>\n",
       "      <td>-1982.876664</td>\n",
       "      <td>inf</td>\n",
       "    </tr>\n",
       "  </tbody>\n",
       "</table>\n",
       "</div>"
      ],
      "text/plain": [
       "            sumsquare_error          aic          bic  kl_div\n",
       "johnsonsu          0.005957  1636.229911 -2063.118120     inf\n",
       "beta               0.007582  1576.872924 -2014.861091     inf\n",
       "pearson3           0.008485  2200.877875 -1997.648565     inf\n",
       "gennorm            0.008936  1731.200937 -1987.308335     inf\n",
       "skewcauchy         0.009136  1618.856333 -1982.876664     inf"
      ]
     },
     "execution_count": 5,
     "metadata": {},
     "output_type": "execute_result"
    },
    {
     "data": {
      "image/png": "[encoded data removed]",
      "text/plain": [
       "<Figure size 432x288 with 1 Axes>"
      ]
     },
     "metadata": {
      "needs_background": "light"
     },
     "output_type": "display_data"
    }
   ],
   "source": [
    "distribution.summary()"
   ]
  },
  {
   "cell_type": "code",
   "execution_count": 5,
   "metadata": {},
   "outputs": [
    {
     "data": {
      "text/plain": [
       "{'johnsonsu': {'a': 3.4191308062254944,\n",
       "  'b': 0.27480464970149954,\n",
       "  'loc': 467607.2705820254,\n",
       "  'scale': 7.5514624264850664e-06}}"
      ]
     },
     "execution_count": 5,
     "metadata": {},
     "output_type": "execute_result"
    }
   ],
   "source": [
    "d = distribution.get_best(method='sumsquare_error')\n",
    "d"
   ]
  },
  {
   "cell_type": "code",
   "execution_count": 7,
   "metadata": {},
   "outputs": [],
   "source": [
    "import matplotlib.pyplot as plt"
   ]
  },
  {
   "cell_type": "code",
   "execution_count": 8,
   "metadata": {},
   "outputs": [
    {
     "ename": "NameError",
     "evalue": "name 'std_data' is not defined",
     "output_type": "error",
     "traceback": [
      "\u001b[1;31m---------------------------------------------------------------------------\u001b[0m",
      "\u001b[1;31mNameError\u001b[0m                                 Traceback (most recent call last)",
      "\u001b[1;32mc:\\Users\\floremoi\\OneDrive - HP Inc\\Documents\\MFOProjects\\MFOexanchangebot\\noteboook.ipynb Cell 8\u001b[0m in \u001b[0;36m<cell line: 1>\u001b[1;34m()\u001b[0m\n\u001b[1;32m----> <a href='vscode-notebook-cell:/c%3A/Users/floremoi/OneDrive%20-%20HP%20Inc/Documents/MFOProjects/MFOexanchangebot/noteboook.ipynb#ch0000006?line=0'>1</a>\u001b[0m plt\u001b[39m.\u001b[39mhist(std_data\u001b[39m.\u001b[39mflatten(), bins\u001b[39m=\u001b[39m\u001b[39m5\u001b[39m)\n",
      "\u001b[1;31mNameError\u001b[0m: name 'std_data' is not defined"
     ]
    }
   ],
   "source": [
    "plt.hist(std_data.flatten(), bins=5)"
   ]
  },
  {
   "cell_type": "code",
   "execution_count": null,
   "metadata": {},
   "outputs": [],
   "source": [
    "std_scaler = StandardScaler()\n",
    "std_data = std_scaler.fit_transform(mid_price.reshape(-1, 1))\n",
    "std_data.flatten()"
   ]
  },
  {
   "cell_type": "code",
   "execution_count": null,
   "metadata": {},
   "outputs": [],
   "source": [
    "model_data.mid_price().reshape(-1,1)"
   ]
  },
  {
   "cell_type": "code",
   "execution_count": null,
   "metadata": {},
   "outputs": [],
   "source": [
    "plt.plot(mid_price)\n",
    "plt.show()"
   ]
  },
  {
   "cell_type": "code",
   "execution_count": 7,
   "metadata": {},
   "outputs": [],
   "source": [
    "import sqlite3"
   ]
  },
  {
   "cell_type": "code",
   "execution_count": 12,
   "metadata": {},
   "outputs": [
    {
     "ename": "OperationalError",
     "evalue": "no such table: model_performance",
     "output_type": "error",
     "traceback": [
      "\u001b[1;31m---------------------------------------------------------------------------\u001b[0m",
      "\u001b[1;31mOperationalError\u001b[0m                          Traceback (most recent call last)",
      "\u001b[1;32mc:\\Users\\floremoi\\OneDrive - HP Inc\\Documents\\MFOProjects\\MFOexanchangebot\\noteboook.ipynb Cell 13\u001b[0m in \u001b[0;36m<cell line: 3>\u001b[1;34m()\u001b[0m\n\u001b[0;32m      <a href='vscode-notebook-cell:/c%3A/Users/floremoi/OneDrive%20-%20HP%20Inc/Documents/MFOProjects/MFOexanchangebot/noteboook.ipynb#ch0000013?line=0'>1</a>\u001b[0m conn \u001b[39m=\u001b[39m sqlite3\u001b[39m.\u001b[39mconnect(\u001b[39m'\u001b[39m\u001b[39mtransactions.db\u001b[39m\u001b[39m'\u001b[39m)\n\u001b[0;32m      <a href='vscode-notebook-cell:/c%3A/Users/floremoi/OneDrive%20-%20HP%20Inc/Documents/MFOProjects/MFOexanchangebot/noteboook.ipynb#ch0000013?line=1'>2</a>\u001b[0m cur \u001b[39m=\u001b[39m conn\u001b[39m.\u001b[39mcursor()\n\u001b[1;32m----> <a href='vscode-notebook-cell:/c%3A/Users/floremoi/OneDrive%20-%20HP%20Inc/Documents/MFOProjects/MFOexanchangebot/noteboook.ipynb#ch0000013?line=2'>3</a>\u001b[0m cur\u001b[39m.\u001b[39;49mexecute(\u001b[39m\"\u001b[39;49m\u001b[39mSELECT * FROM model_performance\u001b[39;49m\u001b[39m\"\u001b[39;49m)\n\u001b[0;32m      <a href='vscode-notebook-cell:/c%3A/Users/floremoi/OneDrive%20-%20HP%20Inc/Documents/MFOProjects/MFOexanchangebot/noteboook.ipynb#ch0000013?line=3'>4</a>\u001b[0m transactions \u001b[39m=\u001b[39m cur\u001b[39m.\u001b[39mfetchall()\n\u001b[0;32m      <a href='vscode-notebook-cell:/c%3A/Users/floremoi/OneDrive%20-%20HP%20Inc/Documents/MFOProjects/MFOexanchangebot/noteboook.ipynb#ch0000013?line=4'>5</a>\u001b[0m \u001b[39mprint\u001b[39m(transactions)\n",
      "\u001b[1;31mOperationalError\u001b[0m: no such table: model_performance"
     ]
    }
   ],
   "source": [
    "conn = sqlite3.connect('transactions.db')\n",
    "cur = conn.cursor()\n",
    "cur.execute(\"SELECT * FROM model_performance\")\n",
    "transactions = cur.fetchall()\n",
    "print(transactions)\n",
    "conn.close()"
   ]
  },
  {
   "cell_type": "code",
   "execution_count": 6,
   "metadata": {},
   "outputs": [
    {
     "data": {
      "text/plain": [
       "'btc'"
      ]
     },
     "execution_count": 6,
     "metadata": {},
     "output_type": "execute_result"
    }
   ],
   "source": [
    "string = 'btc_mxn'\n",
    "string[0:3]"
   ]
  },
  {
   "cell_type": "code",
   "execution_count": null,
   "metadata": {},
   "outputs": [],
   "source": []
  },
  {
   "cell_type": "code",
   "execution_count": null,
   "metadata": {},
   "outputs": [],
   "source": [
    "conn = sqlite3.connect('transactions.db')\n",
    "cur = conn.cursor()\n",
    "\n",
    "cur.execute(\"\"\"\n",
    "CREATE TABLE IF NOT EXISTS model_performance \n",
    "(\n",
    "id_transaction TEXT PRIMARY KEY, \n",
    "expected_value REAL,\n",
    "last_price REAL,\n",
    "distribution TEXT,\n",
    "mxn_balance REAL,\n",
    "action TEXT\n",
    ")\n",
    "\"\"\")\n",
    "\n",
    "cur.execute(\"INSERT INTO model_performance VALUES (?, ?, ?, ?, ?, ?)\",\n",
    "(id_transaction, expected_value, last_price, distribution, mxn_balance, action))\n",
    "conn.commit()\n",
    "conn.close()"
   ]
  },
  {
   "cell_type": "markdown",
   "metadata": {},
   "source": []
  }
 ],
 "metadata": {
  "kernelspec": {
   "display_name": "Python 3.9.7 ('venv': venv)",
   "language": "python",
   "name": "python3"
  },
  "language_info": {
   "codemirror_mode": {
    "name": "ipython",
    "version": 3
   },
   "file_extension": ".py",
   "mimetype": "text/x-python",
   "name": "python",
   "nbconvert_exporter": "python",
   "pygments_lexer": "ipython3",
   "version": "3.9.7"
  },
  "orig_nbformat": 4,
  "vscode": {
   "interpreter": {
    "hash": "26170992ef292fad8598955daee41210d954bee51724d45787cd5937133d4e28"
   }
  }
 },
 "nbformat": 4,
 "nbformat_minor": 2
}
